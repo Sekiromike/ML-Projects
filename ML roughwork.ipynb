{
  "nbformat": 4,
  "nbformat_minor": 0,
  "metadata": {
    "colab": {
      "provenance": []
    },
    "kernelspec": {
      "name": "python3",
      "display_name": "Python 3"
    },
    "language_info": {
      "name": "python"
    }
  },
  "cells": [
    {
      "cell_type": "markdown",
      "source": [
        "# MLT-OPPE\n",
        "\n",
        "# OPPE Instructions\n",
        "\n",
        "This exam will be of two hours duration and will have the following sections.\n",
        "\n",
        "- Part-1: `NumPy` (4 questions, 20 marks)\n",
        "- Part-2: Classification (8 questions, 30 marks)\n",
        "- Part-3: Regression (6 questions, 30 marks)\n",
        "\n",
        "The questions will be numbered from 1 to 18. You have to solve the questions using the colab and enter the answer on the portal. Each question will be of the NAT type.\n",
        "\n",
        "\n",
        "\n",
        "**Colab Instructions**\n",
        "\n",
        "- Some cells in this colab contain the data for the questions related to them and should **not** be edited. For such cells, the first entry will be the following comment:\n",
        "\n",
        "```\n",
        "# WARNING: DO NOT EDIT THIS CELL\n",
        "```\n",
        "\n",
        "- Make sure that you run all the cells before the current cell you are working with. This can be done using `Ctr + F8`. Just running the current cell repeatedly might cause a problem. `Ctr + F8` runs all the cells starting from the first one in sequence.\n",
        "- Note that some questions have random numbers generated with specific seed values. So, it is important that you run the cells in the sequence in which they are presented. For such questions, you will find the following message at the end of the cell:\n",
        "\n",
        "```\n",
        "# ALWAYS RUN THIS CELL BEFORE RUNNING YOUR SOLUTION CELL\n",
        "```"
      ],
      "metadata": {
        "id": "Rl0GlDpb1A8Y"
      }
    },
    {
      "cell_type": "markdown",
      "source": [
        "## Part-1: NumPy [20 marks]"
      ],
      "metadata": {
        "id": "vsZllMbQ4XwO"
      }
    },
    {
      "cell_type": "markdown",
      "source": [
        "### Question-1 [5 marks]\n",
        "\n",
        "The outer product between two column vectors $\\mathbf{x}$ and $\\mathbf{y}$ is defined as follows:\n",
        "\n",
        "$$\n",
        "\\mathbf{x} \\mathbf{y}^{T}\n",
        "$$\n",
        "\n",
        "Find the element in the $235^{th}$ column and $1003^{rd}$ row of the outer product of the vectors $\\mathbf{x}$ and $\\mathbf{y}$. Both vectors are specified as single dimensional NumPy arrays in the code-block below.\n",
        "\n",
        "**Note**: We number rows and columns starting from 1. Rows are from top-bottom, columns are from left-right. So the 33rd column means, well, the 33rd column."
      ],
      "metadata": {
        "id": "9ViLwumF4csh"
      }
    },
    {
      "cell_type": "code",
      "execution_count": null,
      "metadata": {
        "id": "czyAwkkE0y3a"
      },
      "outputs": [],
      "source": [
        "# WARNING: DO NOT EDIT THIS CELL\n",
        "import numpy as np\n",
        "rng = np.random.default_rng(seed = 1832)\n",
        "x = rng.integers(-100, 100, 2000)\n",
        "y = rng.integers(-100, 100, 3000)\n",
        "# ALWAYS RUN THIS CELL BEFORE RUNNING YOUR SOLUTION CELL"
      ]
    },
    {
      "cell_type": "code",
      "source": [
        "x.shape"
      ],
      "metadata": {
        "colab": {
          "base_uri": "https://localhost:8080/"
        },
        "id": "5SQ41D215hlX",
        "outputId": "0b8fe14e-ee9a-4275-a8dd-0a6f3fc600d7"
      },
      "execution_count": null,
      "outputs": [
        {
          "output_type": "execute_result",
          "data": {
            "text/plain": [
              "(2000,)"
            ]
          },
          "metadata": {},
          "execution_count": 195
        }
      ]
    },
    {
      "cell_type": "code",
      "source": [
        "y.shape"
      ],
      "metadata": {
        "colab": {
          "base_uri": "https://localhost:8080/"
        },
        "id": "YB0B-7VZ5jrr",
        "outputId": "c7f0e4ea-01e4-49c2-f290-fbd5b60bb21a"
      },
      "execution_count": null,
      "outputs": [
        {
          "output_type": "execute_result",
          "data": {
            "text/plain": [
              "(3000,)"
            ]
          },
          "metadata": {},
          "execution_count": 196
        }
      ]
    },
    {
      "cell_type": "code",
      "source": [
        "# Solution\n",
        "\n",
        "result=np.outer(x,y)\n",
        "result"
      ],
      "metadata": {
        "id": "lDRIIWNc5jtP",
        "colab": {
          "base_uri": "https://localhost:8080/"
        },
        "outputId": "98154a39-9b3c-4bc7-b80b-c4f8aac795be"
      },
      "execution_count": null,
      "outputs": [
        {
          "output_type": "execute_result",
          "data": {
            "text/plain": [
              "array([[-3384,  4752, -7056, ...,   936,  7128, -6840],\n",
              "       [ 2773, -3894,  5782, ...,  -767, -5841,  5605],\n",
              "       [ -940,  1320, -1960, ...,   260,  1980, -1900],\n",
              "       ...,\n",
              "       [ 2632, -3696,  5488, ...,  -728, -5544,  5320],\n",
              "       [ -987,  1386, -2058, ...,   273,  2079, -1995],\n",
              "       [ -141,   198,  -294, ...,    39,   297,  -285]])"
            ]
          },
          "metadata": {},
          "execution_count": 197
        }
      ]
    },
    {
      "cell_type": "code",
      "source": [
        "result.shape"
      ],
      "metadata": {
        "colab": {
          "base_uri": "https://localhost:8080/"
        },
        "id": "MwiyOTlL5mID",
        "outputId": "52a35af4-dfaa-44da-dda1-a44ffd6337fe"
      },
      "execution_count": null,
      "outputs": [
        {
          "output_type": "execute_result",
          "data": {
            "text/plain": [
              "(2000, 3000)"
            ]
          },
          "metadata": {},
          "execution_count": 198
        }
      ]
    },
    {
      "cell_type": "code",
      "source": [
        "result[1002,234]"
      ],
      "metadata": {
        "colab": {
          "base_uri": "https://localhost:8080/"
        },
        "id": "aVfEguGL6FnR",
        "outputId": "376acadd-1df3-46a4-d46b-c04ed3ad5840"
      },
      "execution_count": null,
      "outputs": [
        {
          "output_type": "execute_result",
          "data": {
            "text/plain": [
              "180"
            ]
          },
          "metadata": {},
          "execution_count": 199
        }
      ]
    },
    {
      "cell_type": "markdown",
      "source": [
        "### Question-2 [5 marks]\n",
        "\n",
        "Matrices $\\mathbf{A}$ and $\\mathbf{B}$ are commutative if and only if $\\mathbf{A} \\mathbf{B} = \\mathbf{B} \\mathbf{A}$. Among the six matrices given below, find the number of pairs of matrices that are commutative. Note that $(\\mathbf{A}, \\mathbf{B})$ is the same as $(\\mathbf{B}, \\mathbf{A})$ and should be counted only once. Also, $(\\mathbf{A}, \\mathbf{A})$ doesn't count as a valid pair."
      ],
      "metadata": {
        "id": "zgXDFzK_60HG"
      }
    },
    {
      "cell_type": "code",
      "source": [
        "# WARNING: DO NOT EDIT THIS CELL\n",
        "import numpy as np\n",
        "# the six matrices, A to F\n",
        "A = np.array([[2, 0], [1, -1]])\n",
        "B = np.array([[3, 0], [1, 0]])\n",
        "C = np.array([[1, 2], [3, 4]])\n",
        "D = np.array([[4, 0], [0, 4]])\n",
        "E = np.array([[1, 0], [0, 1]])\n",
        "F = np.array([[1, -1], [-1, 1]])\n",
        "# ALWAYS RUN THIS CELL BEFORE RUNNING YOUR SOLUTION CELL"
      ],
      "metadata": {
        "id": "FExM5b4hI5fD"
      },
      "execution_count": null,
      "outputs": []
    },
    {
      "cell_type": "code",
      "source": [
        "# Solution\n",
        "matrices = [A, B, C, D, E, F]\n",
        "matrix_names = ['A', 'B', 'C', 'D', 'E', 'F']\n",
        "\n",
        "result = []\n",
        "\n",
        "for i in range(len(matrices)):\n",
        "    for j in range(i + 1, len(matrices)):\n",
        "        if np.array_equal(np.dot(matrices[i], matrices[j]), np.dot(matrices[j], matrices[i])):\n",
        "            result.append((matrix_names[i], matrix_names[j]))\n",
        "\n",
        "print(result)\n",
        "len(result)"
      ],
      "metadata": {
        "id": "4hr6Fl5g7JUj",
        "colab": {
          "base_uri": "https://localhost:8080/"
        },
        "outputId": "590fbe0e-a158-42ae-a989-543c0ace8c4b"
      },
      "execution_count": null,
      "outputs": [
        {
          "output_type": "stream",
          "name": "stdout",
          "text": [
            "[('A', 'B'), ('A', 'D'), ('A', 'E'), ('B', 'D'), ('B', 'E'), ('C', 'D'), ('C', 'E'), ('D', 'E'), ('D', 'F'), ('E', 'F')]\n"
          ]
        },
        {
          "output_type": "execute_result",
          "data": {
            "text/plain": [
              "10"
            ]
          },
          "metadata": {},
          "execution_count": 201
        }
      ]
    },
    {
      "cell_type": "markdown",
      "source": [
        "### Question-3 [5 marks]\n",
        "\n",
        "Three or more lines are said to be concurrent if all of them pass through a common point. Consider the following lines:\n",
        "\n",
        "$$\n",
        "\\begin{aligned}\n",
        "y &= 3x - 5\\\\\n",
        "y &= 2x\\\\\n",
        "y &= 10\\\\\n",
        "y &= 5x - 15\\\\\n",
        "y &= 3x + 1\\\\\n",
        "y &= 1 - 5x\n",
        "\\end{aligned}\n",
        "$$\n",
        "\n",
        "It is given that there is exactly one point in the plane through which at least $3$ lines pass. Find the exact number of lines that pass through this point. Use matplotlib to solve this problem."
      ],
      "metadata": {
        "id": "_1XfP9xbIrIN"
      }
    },
    {
      "cell_type": "code",
      "source": [
        "# Solution\n",
        "import matplotlib.pyplot as plt\n",
        "import numpy as np\n",
        "\n",
        "x = np.linspace(-10, 10, 400)\n",
        "\n",
        "y1 = 3*x - 5\n",
        "y2 = 2*x\n",
        "y3 = np.full_like(x, 10)\n",
        "y4 = 5*x - 15\n",
        "y5 = 3*x + 1\n",
        "y6 = 1 - 5*x\n",
        "\n",
        "plt.figure(figsize=(10, 8))\n",
        "plt.plot(x, y1, label=\"y = 3x - 5\")\n",
        "plt.plot(x, y2, label=\"y = 2x\")\n",
        "plt.plot(x, y3, label=\"y = 10\")\n",
        "plt.plot(x, y4, label=\"y = 5x - 15\")\n",
        "plt.plot(x, y5, label=\"y = 3x + 1\")\n",
        "plt.plot(x, y6, label=\"y = 1 - 5x\")\n",
        "\n",
        "\n",
        "plt.xlim(-10, 10)\n",
        "plt.ylim(-10, 20)\n",
        "\n",
        "plt.grid(True)\n",
        "\n",
        "plt.legend()\n",
        "\n",
        "plt.xlabel('x')\n",
        "plt.ylabel('y')\n",
        "plt.title('Graphical Representation of Given Lines')\n",
        "plt.show()\n"
      ],
      "metadata": {
        "id": "-F579Fc7KV8Q",
        "colab": {
          "base_uri": "https://localhost:8080/",
          "height": 718
        },
        "outputId": "fa06993e-c1fa-4019-9fc3-759f1999f1e7"
      },
      "execution_count": null,
      "outputs": [
        {
          "output_type": "display_data",
          "data": {
            "text/plain": [
              "<Figure size 1000x800 with 1 Axes>"
            ],
            "image/png": "[encoded data removed]"
          },
          "metadata": {}
        }
      ]
    },
    {
      "cell_type": "markdown",
      "source": [
        "### Question-4 (5 marks)\n",
        "\n",
        "Consider a binary classification problem with $n$ data-points in $\\mathbb{R}^{d}$. $\\mathbf{X}$ is the data-matrix of shape $(d, n)$ and $y$ is the label vector of shape $(n, )$. The labels are in the set $\\{-1, 1\\}$. Consider a linear classifer with weight vector $\\mathbf{w}$ and the following classification rule:\n",
        "\n",
        "$$\n",
        "y_{\\text{pred}} =\n",
        "\\begin{cases}\n",
        "1, & \\mathbf{w}^T \\mathbf{x} \\geq 0\\\\\n",
        "-1, & \\mathbf{w}^T \\mathbf{x} < 0\n",
        "\\end{cases}\n",
        "$$\n",
        "\n",
        "where $\\mathbf{w}$ and $\\mathbf{x}$ are in $\\mathbb{R}^{d}$. You are given the following arrays:\n",
        "\n",
        "- `X`\n",
        "- `y`\n",
        "- `w`\n",
        "\n",
        "Find the accuracy of the classifer on this dataset. That is, find the ratio $\\frac{c}{n}$, where $c$ is the number of correctly classified points and $n$ is the size of the dataset. Enter your answer to exactly three decimal places. The answer should be between $0$ and $1$.\n",
        "\n",
        "**Note**: No range will be provided, your answer has to be exact."
      ],
      "metadata": {
        "id": "EY_o01mALD6v"
      }
    },
    {
      "cell_type": "code",
      "source": [
        "# WARNING: DO NOT EDIT THIS CELL\n",
        "import numpy as np\n",
        "rng = np.random.default_rng(seed = 3124)\n",
        "n = 1000\n",
        "d = 15\n",
        "X = rng.normal(size = (d, n))\n",
        "y = rng.choice([-1, 1], n)\n",
        "w = 2 * rng.normal(size = d) + 5\n",
        "# ALWAYS RUN THIS CELL BEFORE RUNNING YOUR SOLUTION CELL"
      ],
      "metadata": {
        "id": "4fElljohLQc0"
      },
      "execution_count": null,
      "outputs": []
    },
    {
      "cell_type": "code",
      "source": [
        "y"
      ],
      "metadata": {
        "colab": {
          "base_uri": "https://localhost:8080/"
        },
        "id": "_0h8z9gI4SWF",
        "outputId": "932cee60-879b-4ff0-e8f2-39ad4c7c56f7"
      },
      "execution_count": null,
      "outputs": [
        {
          "output_type": "execute_result",
          "data": {
            "text/plain": [
              "array([ 1,  1, -1,  1,  1,  1,  1, -1, -1, -1,  1, -1,  1, -1,  1, -1,  1,\n",
              "       -1, -1,  1, -1, -1, -1, -1,  1,  1, -1,  1,  1,  1,  1,  1, -1,  1,\n",
              "        1,  1, -1, -1,  1,  1,  1, -1, -1, -1,  1,  1,  1,  1,  1, -1, -1,\n",
              "        1, -1,  1, -1,  1, -1,  1,  1,  1, -1,  1, -1, -1,  1, -1,  1,  1,\n",
              "       -1, -1, -1, -1,  1, -1, -1, -1,  1, -1,  1,  1, -1, -1,  1, -1, -1,\n",
              "        1, -1,  1,  1, -1,  1,  1,  1, -1,  1,  1, -1, -1, -1,  1,  1, -1,\n",
              "        1,  1,  1,  1, -1, -1, -1,  1, -1, -1, -1, -1,  1,  1, -1,  1,  1,\n",
              "        1, -1, -1, -1,  1, -1,  1,  1, -1,  1,  1, -1, -1,  1, -1, -1, -1,\n",
              "        1, -1,  1, -1, -1, -1, -1,  1,  1, -1,  1,  1,  1,  1,  1, -1, -1,\n",
              "       -1,  1, -1, -1, -1, -1,  1, -1,  1,  1,  1,  1,  1, -1, -1, -1, -1,\n",
              "       -1,  1, -1, -1,  1,  1,  1, -1,  1, -1, -1, -1,  1,  1, -1, -1, -1,\n",
              "        1, -1,  1, -1, -1,  1, -1, -1,  1,  1,  1, -1,  1, -1, -1, -1, -1,\n",
              "       -1,  1, -1,  1,  1, -1,  1,  1,  1, -1,  1, -1, -1,  1,  1, -1, -1,\n",
              "       -1, -1,  1, -1, -1, -1,  1,  1,  1,  1, -1,  1,  1,  1, -1,  1, -1,\n",
              "       -1, -1, -1, -1, -1,  1,  1,  1, -1, -1,  1,  1,  1,  1,  1,  1,  1,\n",
              "        1, -1, -1, -1, -1,  1, -1,  1, -1,  1, -1,  1, -1, -1, -1,  1, -1,\n",
              "        1,  1, -1, -1, -1, -1,  1, -1, -1, -1,  1, -1, -1,  1, -1, -1, -1,\n",
              "       -1, -1,  1,  1,  1, -1, -1,  1,  1, -1,  1, -1, -1, -1, -1, -1, -1,\n",
              "        1, -1, -1, -1,  1, -1, -1, -1,  1,  1,  1, -1,  1,  1,  1,  1, -1,\n",
              "        1, -1,  1, -1,  1, -1, -1,  1,  1, -1, -1, -1, -1, -1,  1, -1,  1,\n",
              "       -1,  1,  1, -1, -1,  1,  1, -1, -1, -1,  1,  1,  1, -1,  1,  1, -1,\n",
              "       -1, -1, -1,  1,  1, -1, -1, -1, -1, -1,  1, -1, -1, -1,  1,  1,  1,\n",
              "       -1, -1,  1, -1, -1, -1, -1, -1, -1, -1,  1, -1, -1, -1, -1,  1, -1,\n",
              "       -1,  1,  1, -1,  1, -1, -1,  1,  1, -1, -1, -1, -1,  1,  1,  1,  1,\n",
              "       -1,  1, -1, -1,  1,  1,  1,  1, -1, -1,  1,  1, -1, -1, -1, -1, -1,\n",
              "        1, -1,  1, -1,  1, -1,  1,  1,  1,  1, -1,  1, -1, -1, -1,  1,  1,\n",
              "       -1,  1,  1,  1, -1,  1,  1,  1,  1,  1,  1, -1, -1,  1,  1,  1, -1,\n",
              "        1, -1, -1,  1,  1,  1, -1, -1, -1, -1, -1,  1,  1, -1,  1, -1,  1,\n",
              "       -1,  1, -1,  1, -1,  1,  1, -1, -1,  1,  1, -1, -1,  1,  1, -1,  1,\n",
              "       -1,  1, -1,  1, -1, -1, -1, -1, -1, -1, -1,  1, -1, -1, -1,  1,  1,\n",
              "        1, -1,  1, -1,  1,  1,  1,  1,  1, -1,  1,  1,  1, -1,  1,  1, -1,\n",
              "       -1,  1, -1,  1,  1,  1,  1,  1,  1,  1, -1,  1,  1, -1,  1,  1, -1,\n",
              "        1,  1,  1, -1, -1,  1,  1,  1, -1, -1, -1,  1, -1,  1, -1,  1,  1,\n",
              "       -1, -1, -1, -1, -1, -1,  1,  1,  1,  1,  1,  1, -1,  1,  1,  1, -1,\n",
              "        1, -1,  1,  1,  1, -1,  1, -1,  1, -1,  1,  1, -1,  1,  1, -1,  1,\n",
              "        1,  1,  1,  1, -1,  1,  1,  1,  1,  1,  1,  1, -1,  1, -1, -1, -1,\n",
              "       -1, -1,  1,  1,  1,  1, -1, -1, -1,  1, -1,  1, -1, -1, -1, -1,  1,\n",
              "        1,  1, -1, -1, -1, -1, -1,  1,  1,  1,  1,  1,  1, -1,  1,  1, -1,\n",
              "       -1, -1, -1, -1, -1,  1, -1,  1,  1,  1, -1,  1,  1,  1, -1, -1,  1,\n",
              "       -1,  1,  1,  1, -1, -1, -1, -1, -1,  1,  1,  1, -1,  1,  1, -1,  1,\n",
              "       -1, -1, -1, -1, -1,  1, -1,  1, -1, -1,  1, -1,  1,  1, -1,  1,  1,\n",
              "        1,  1,  1, -1,  1,  1, -1, -1,  1,  1, -1,  1, -1, -1,  1, -1,  1,\n",
              "        1, -1,  1, -1, -1, -1,  1, -1,  1,  1,  1, -1,  1, -1,  1, -1,  1,\n",
              "       -1,  1, -1, -1, -1, -1,  1, -1, -1,  1,  1,  1,  1, -1,  1, -1,  1,\n",
              "       -1,  1,  1, -1, -1,  1,  1,  1, -1,  1,  1,  1,  1,  1,  1,  1,  1,\n",
              "        1,  1, -1, -1, -1,  1, -1, -1,  1, -1,  1,  1, -1, -1, -1,  1, -1,\n",
              "        1, -1, -1,  1,  1,  1, -1,  1,  1,  1, -1,  1, -1, -1, -1,  1,  1,\n",
              "        1, -1, -1, -1,  1,  1, -1,  1,  1, -1, -1,  1, -1,  1, -1,  1, -1,\n",
              "        1, -1,  1,  1,  1, -1, -1, -1,  1,  1,  1,  1,  1, -1,  1,  1,  1,\n",
              "       -1,  1, -1,  1,  1, -1, -1, -1,  1,  1, -1,  1, -1,  1, -1,  1,  1,\n",
              "       -1, -1, -1, -1,  1,  1, -1, -1,  1, -1,  1, -1,  1,  1, -1, -1,  1,\n",
              "        1,  1, -1,  1, -1, -1,  1,  1, -1,  1, -1,  1,  1,  1,  1,  1, -1,\n",
              "        1, -1,  1, -1, -1,  1,  1,  1, -1,  1,  1,  1,  1,  1,  1,  1, -1,\n",
              "        1, -1,  1,  1,  1, -1,  1,  1,  1, -1,  1,  1,  1,  1, -1,  1,  1,\n",
              "       -1, -1, -1,  1,  1,  1,  1,  1, -1, -1,  1,  1,  1, -1, -1,  1,  1,\n",
              "       -1, -1, -1,  1,  1,  1,  1, -1,  1,  1, -1,  1,  1, -1,  1,  1,  1,\n",
              "        1,  1,  1,  1,  1,  1, -1, -1, -1,  1, -1,  1, -1, -1,  1, -1, -1,\n",
              "        1, -1, -1, -1,  1, -1, -1, -1, -1,  1,  1, -1,  1, -1, -1,  1, -1,\n",
              "       -1, -1,  1, -1,  1,  1,  1,  1,  1, -1, -1, -1, -1,  1])"
            ]
          },
          "metadata": {},
          "execution_count": 204
        }
      ]
    },
    {
      "cell_type": "code",
      "source": [
        "# Solution\n",
        "predictions = np.sign(np.dot(w, X))\n",
        "\n",
        "correct_predictions = np.sum(predictions == y)\n",
        "\n",
        "accuracy = correct_predictions / n\n",
        "accuracy"
      ],
      "metadata": {
        "id": "hwnufpK4LYEp",
        "colab": {
          "base_uri": "https://localhost:8080/"
        },
        "outputId": "0ea1feb7-76f3-422d-e1fe-9bc9bf23a753"
      },
      "execution_count": null,
      "outputs": [
        {
          "output_type": "execute_result",
          "data": {
            "text/plain": [
              "0.505"
            ]
          },
          "metadata": {},
          "execution_count": 205
        }
      ]
    },
    {
      "cell_type": "markdown",
      "source": [
        "## Part-2: Classification [30 marks]\n",
        "\n",
        "We will be building a hard-margin SVM for a toy dataset. The data-matrix $\\mathbf{X}$ and the label vector $\\mathbf{y}$ are given to you. Their shapes are $(d, n)$ and $(n, )$ respectively."
      ],
      "metadata": {
        "id": "Hj1d1dMqOyRd"
      }
    },
    {
      "cell_type": "markdown",
      "source": [
        "### Data Cell\n",
        "\n",
        "Do not edit the cell below at any cost!"
      ],
      "metadata": {
        "id": "RvbRG_xXO2ds"
      }
    },
    {
      "cell_type": "code",
      "source": [
        "# WARNING: DO NOT EDIT THIS CELL\n",
        "import numpy as np\n",
        "X = np.array([[-1,0], [0,-1], [-2,1], [-2,0], [-2,-1], [-1,-1],\n",
        "              [0,1], [1,0], [2,0], [2,-1], [1,1], [0,2]]).T\n",
        "y = np.array([1, 1, 1, 1, 1, 1, -1, -1, -1, -1, -1, -1])\n",
        "# ALWAYS RUN THIS CELL BEFORE RUNNING YOUR SOLUTION CELL"
      ],
      "metadata": {
        "id": "OCG7k-C-O3CG"
      },
      "execution_count": null,
      "outputs": []
    },
    {
      "cell_type": "markdown",
      "source": [
        "### Question-5 [2 marks]\n",
        "\n",
        "How many data-points does the dataset have?"
      ],
      "metadata": {
        "id": "uv2bFyjWlrwA"
      }
    },
    {
      "cell_type": "code",
      "source": [
        "# Solution\n",
        "X.shape"
      ],
      "metadata": {
        "id": "FddQxonnluYP",
        "colab": {
          "base_uri": "https://localhost:8080/"
        },
        "outputId": "439e49ca-31d4-4acf-a457-3a33b8f918e7"
      },
      "execution_count": null,
      "outputs": [
        {
          "output_type": "execute_result",
          "data": {
            "text/plain": [
              "(2, 12)"
            ]
          },
          "metadata": {},
          "execution_count": 207
        }
      ]
    },
    {
      "cell_type": "code",
      "source": [
        "y.shape"
      ],
      "metadata": {
        "colab": {
          "base_uri": "https://localhost:8080/"
        },
        "id": "A3SjBOtR6PfK",
        "outputId": "c648b8e9-bb8e-4dcb-a132-6102eafe5a7a"
      },
      "execution_count": null,
      "outputs": [
        {
          "output_type": "execute_result",
          "data": {
            "text/plain": [
              "(12,)"
            ]
          },
          "metadata": {},
          "execution_count": 208
        }
      ]
    },
    {
      "cell_type": "markdown",
      "source": [
        "### Question-6 [2 marks]\n",
        "\n",
        "The data-points lie in $\\mathbb{R}^{d}$. What is the value of $d$?"
      ],
      "metadata": {
        "id": "2iqLVQazlwZK"
      }
    },
    {
      "cell_type": "code",
      "source": [
        "# Solution\n",
        "y.shape"
      ],
      "metadata": {
        "id": "NWqC5wawlxEH",
        "colab": {
          "base_uri": "https://localhost:8080/"
        },
        "outputId": "f10c72cb-3358-4d15-9872-cb318c6df8d7"
      },
      "execution_count": null,
      "outputs": [
        {
          "output_type": "execute_result",
          "data": {
            "text/plain": [
              "(12,)"
            ]
          },
          "metadata": {},
          "execution_count": 209
        }
      ]
    },
    {
      "cell_type": "markdown",
      "source": [
        "### Question-7 [3 marks]\n",
        "\n",
        "Compute the matrix $\\mathbf{Y}$ that appears in the dual problem. If the shape of $\\mathbf{Y}$ is $(m, n)$, enter $m + n$ as your answer."
      ],
      "metadata": {
        "id": "1OlkXrokl2CH"
      }
    },
    {
      "cell_type": "code",
      "source": [
        "# Solution\n",
        "dual_matrix_y=np.outer(y,y)*np.dot(X.T,X)\n",
        "dual_matrix_y.shape"
      ],
      "metadata": {
        "id": "B24TZFVOl3XZ",
        "colab": {
          "base_uri": "https://localhost:8080/"
        },
        "outputId": "eb762ad3-eb52-4c6f-e03c-17644a43254c"
      },
      "execution_count": null,
      "outputs": [
        {
          "output_type": "execute_result",
          "data": {
            "text/plain": [
              "(12, 12)"
            ]
          },
          "metadata": {},
          "execution_count": 210
        }
      ]
    },
    {
      "cell_type": "markdown",
      "source": [
        "### Question-8 [3 marks]\n",
        "\n",
        "Let $\\boldsymbol{\\alpha}$ be the dual variable. The dual objective is:\n",
        "\n",
        "$$\n",
        "f(\\boldsymbol{\\alpha}) = \\boldsymbol{\\alpha}^T \\mathbf{1} - \\cfrac{1}{2} \\cdot \\boldsymbol{\\alpha}^T \\mathbf{Q} \\boldsymbol{\\alpha}\n",
        "$$\n",
        "\n",
        "where, $\\mathbf{Q} = \\mathbf{Y}^T \\mathbf{X}^T \\mathbf{X} \\mathbf{Y}$. Compute the matrix $\\mathbf{Q}$. Report the following expression as your answer:\n",
        "\n",
        "$$\n",
        "\\sum \\limits_{i = 1}^{m} \\sum \\limits_{j = 1}^{n} Q_{ij}\n",
        "$$\n",
        "\n",
        "where the shape of $\\mathbf{Q}$ is $(m, n)$."
      ],
      "metadata": {
        "id": "X2FykJO9l-Rb"
      }
    },
    {
      "cell_type": "code",
      "source": [
        "# Solution\n",
        "Y = np.diag(y)\n",
        "\n",
        "XtX = np.dot(X.T, X)\n",
        "\n",
        "Q = np.dot(np.dot(Y.T, XtX), Y)\n",
        "np.sum(Q)"
      ],
      "metadata": {
        "id": "EYXYHLUvl-xq",
        "colab": {
          "base_uri": "https://localhost:8080/"
        },
        "outputId": "8ecf605f-5a26-479b-e4ff-c2287383e39d"
      },
      "execution_count": null,
      "outputs": [
        {
          "output_type": "execute_result",
          "data": {
            "text/plain": [
              "221"
            ]
          },
          "metadata": {},
          "execution_count": 211
        }
      ]
    },
    {
      "cell_type": "markdown",
      "source": [
        "### Question-9 [5 marks]\n",
        "\n",
        "Since `SciPy`'s optimization routines take the form of minimizing a function, we will recast $f$ as follows:\n",
        "\n",
        "$$\n",
        "f(\\boldsymbol{\\alpha}) =  \\cfrac{1}{2} \\cdot \\boldsymbol{\\alpha}^T \\mathbf{Q} \\boldsymbol{\\alpha} - \\boldsymbol{\\alpha}^T \\mathbf{1}\n",
        "$$\n",
        "\n",
        "We now have to solve :\n",
        "\n",
        "$$\n",
        "\\min \\limits_{\\boldsymbol{\\alpha} \\geq 0} \\quad f(\\boldsymbol{\\alpha})\n",
        "$$\n",
        "\n",
        "Write a function `f` that accepts `alpha` as input and returns `f(alpha)` as output. Compute the value of $f$ at the following value of $\\boldsymbol{\\alpha}$:\n",
        "\n",
        "$$\n",
        "\\boldsymbol{\\alpha} = \\begin{bmatrix}1 & 1 &  1 & 1 & 1 & 1 & 0 & 0 & 0 & 0 & 0 & 0\\end{bmatrix}^T\n",
        "$$"
      ],
      "metadata": {
        "id": "2kO83R9NmA75"
      }
    },
    {
      "cell_type": "code",
      "source": [
        "# Solution\n",
        "def f(alpha, Q):\n",
        "    return 0.5 * np.dot(alpha.T, np.dot(Q, alpha)) - np.dot(alpha.T, np.ones(len(alpha)))\n",
        "\n",
        "alpha = np.array([1, 1, 1, 1, 1, 1, 0, 0, 0, 0, 0, 0])\n",
        "\n",
        "result = f(alpha, Q)\n",
        "result"
      ],
      "metadata": {
        "id": "UrbaW54hmCIy",
        "colab": {
          "base_uri": "https://localhost:8080/"
        },
        "outputId": "9bc8277a-a879-4ccc-8697-c0dc8c92a3cf"
      },
      "execution_count": null,
      "outputs": [
        {
          "output_type": "execute_result",
          "data": {
            "text/plain": [
              "28.0"
            ]
          },
          "metadata": {},
          "execution_count": 212
        }
      ]
    },
    {
      "cell_type": "markdown",
      "source": [
        "### Question-10 [5 marks]\n",
        "\n",
        "Finally, we have most of the ingredients to solve the dual problem:\n",
        "\n",
        "$$\n",
        "\\min \\limits_{\\boldsymbol{\\alpha} \\geq 0} \\quad \\cfrac{1}{2} \\cdot \\boldsymbol{\\alpha}^T \\mathbf{Q} \\boldsymbol{\\alpha} - \\boldsymbol{\\alpha}^T \\mathbf{1}\n",
        "$$\n",
        "\n",
        "Find the optimal value, $\\boldsymbol{\\alpha^{*}}$. Use the zero vector as the initial valur of $\\boldsymbol{\\alpha}$. Report the value of $\\alpha_i^{*}$ for the point $\\begin{bmatrix}-1\\\\0\\end{bmatrix}$ that is present in the training dataset. Enter your answer correct to two decimal places."
      ],
      "metadata": {
        "id": "VMHZxgBamDRS"
      }
    },
    {
      "cell_type": "code",
      "source": [
        "# Solution\n",
        "from scipy.optimize import minimize\n",
        "\n",
        "def objective(alpha, Q):\n",
        "    return 0.5 * np.dot(alpha.T, np.dot(Q, alpha)) - np.dot(alpha.T, np.ones(len(alpha)))\n",
        "\n",
        "initial_alpha = np.zeros(X.shape[1])\n",
        "\n",
        "bounds = [(0, None) for _ in range(X.shape[1])]\n",
        "\n",
        "result = minimize(objective, initial_alpha, args=(Q,), bounds=bounds)\n",
        "\n",
        "alpha_star = result.x\n",
        "\n",
        "index = np.where((X.T == [-1, 0]).all(axis=1))[0][0]\n",
        "\n",
        "optimal_value = alpha_star[index]\n",
        "round(optimal_value, 2)"
      ],
      "metadata": {
        "id": "PqBehXq5mEbt",
        "colab": {
          "base_uri": "https://localhost:8080/"
        },
        "outputId": "ba383826-8b1f-4508-fc7b-54cac8f2534c"
      },
      "execution_count": null,
      "outputs": [
        {
          "output_type": "execute_result",
          "data": {
            "text/plain": [
              "0.33"
            ]
          },
          "metadata": {},
          "execution_count": 213
        }
      ]
    },
    {
      "cell_type": "markdown",
      "source": [
        "### Question-11 [5 marks]\n",
        "\n",
        "How many support vectors does this setup have?"
      ],
      "metadata": {
        "id": "VaBGGfjcmGP8"
      }
    },
    {
      "cell_type": "code",
      "source": [
        "# Solution\n",
        "num_support_vectors = np.sum(alpha_star > 1e-5)\n",
        "\n",
        "num_support_vectors"
      ],
      "metadata": {
        "id": "d1miPlnEmHpe",
        "colab": {
          "base_uri": "https://localhost:8080/"
        },
        "outputId": "b00c70ce-2421-445f-a111-8f65e080b6ca"
      },
      "execution_count": null,
      "outputs": [
        {
          "output_type": "execute_result",
          "data": {
            "text/plain": [
              "6"
            ]
          },
          "metadata": {},
          "execution_count": 214
        }
      ]
    },
    {
      "cell_type": "markdown",
      "source": [
        "### Question-12 [5 marks]\n",
        "\n",
        "Find the optimal weight vector $\\mathbf{w}^*$. Round off each of the $d$ components of the vector $\\mathbf{w^{*}}$ to the nearest integer and then report your answer as the sum of the components of the vector:\n",
        "\n",
        "$$\n",
        "\\sum \\limits_{i = 1}^{d} w^{*}_i\n",
        "$$"
      ],
      "metadata": {
        "id": "tG_DC2sLmI62"
      }
    },
    {
      "cell_type": "code",
      "source": [
        "# Solution\n",
        "w_star = np.dot(X, alpha_star * y)\n",
        "\n",
        "w_star_rounded = np.round(w_star)\n",
        "\n",
        "sum_w_star = np.sum(w_star_rounded)\n",
        "\n",
        "sum_w_star"
      ],
      "metadata": {
        "id": "dGw1lMg9mKUJ",
        "colab": {
          "base_uri": "https://localhost:8080/"
        },
        "outputId": "bd9ace8a-ab10-4b92-97b6-2250b275e310"
      },
      "execution_count": null,
      "outputs": [
        {
          "output_type": "execute_result",
          "data": {
            "text/plain": [
              "-2.0"
            ]
          },
          "metadata": {},
          "execution_count": 215
        }
      ]
    },
    {
      "cell_type": "markdown",
      "source": [
        "## Part-3: Ridge Regression\n",
        "\n",
        "Run the following cell to get the training and test dataset. The following variables are used in the cell:\n",
        "\n",
        "`X_train` = Training dataset of shape `d × n`\n",
        "\n",
        "`y_train` = label vector corresponding to training dataset\n",
        "\n",
        "`X_test` = Test dataset\n",
        "\n",
        "`y_test` = label vector corresponding to test dataset\n"
      ],
      "metadata": {
        "id": "PDJOgukkGzbn"
      }
    },
    {
      "cell_type": "code",
      "source": [
        "import numpy as np\n",
        "## Synthetic data\n",
        "### DO NOT edit this cell ###\n",
        "np.random.seed(42)\n",
        "\n",
        "num_samples = 100\n",
        "num_features = 5\n",
        "\n",
        "\n",
        "## Training Dataset\n",
        "\n",
        "X_train = np.random.randn(num_samples, num_features).T\n",
        "true_coef = np.random.randn(num_features)\n",
        "noise = 0.01* np.random.randn(num_samples)\n",
        "y_train = np.dot(X_train.T, true_coef) + noise\n",
        "\n",
        "## Test Dataset\n",
        "X_test = np.random.randn(50, num_features).T\n",
        "true_coef_t = np.random.randn(num_features)\n",
        "noise_t = 0.1* np.random.randn(50)\n",
        "y_test = np.dot(X_test.T, true_coef_t) + noise_t\n",
        "# ALWAYS RUN THIS CELL BEFORE RUNNING YOUR SOLUTION CELL"
      ],
      "metadata": {
        "id": "wrcGYAKIG1F8"
      },
      "execution_count": null,
      "outputs": []
    },
    {
      "cell_type": "markdown",
      "source": [
        "### Question-13 [3 marks]\n",
        "\n",
        "Add the dummy feature in both training and test dataset. If we learn the ridge regression model on the same training dataset, how many weights need to be learned by the model?\n",
        "\n"
      ],
      "metadata": {
        "id": "QsT9VIr4G54A"
      }
    },
    {
      "cell_type": "code",
      "source": [
        "X_train.shape"
      ],
      "metadata": {
        "colab": {
          "base_uri": "https://localhost:8080/"
        },
        "id": "osvTXE-b_lGd",
        "outputId": "82965462-9f40-4cab-d6d7-851fd0006ec6"
      },
      "execution_count": null,
      "outputs": [
        {
          "output_type": "execute_result",
          "data": {
            "text/plain": [
              "(5, 100)"
            ]
          },
          "metadata": {},
          "execution_count": 217
        }
      ]
    },
    {
      "cell_type": "code",
      "source": [
        "y_train.shape"
      ],
      "metadata": {
        "colab": {
          "base_uri": "https://localhost:8080/"
        },
        "id": "zB5YGyeiBfJ3",
        "outputId": "1d457f68-949e-4289-c154-e6ec9c5758ef"
      },
      "execution_count": null,
      "outputs": [
        {
          "output_type": "execute_result",
          "data": {
            "text/plain": [
              "(100,)"
            ]
          },
          "metadata": {},
          "execution_count": 218
        }
      ]
    },
    {
      "cell_type": "code",
      "source": [
        "#5+1 for weights"
      ],
      "metadata": {
        "id": "lV4aLn7g_pZ_"
      },
      "execution_count": null,
      "outputs": []
    },
    {
      "cell_type": "code",
      "source": [
        "# Solution\n",
        "dummy_feature_train = np.ones((1, X_train.shape[1]))\n",
        "dummy_feature_test = np.ones((1, X_test.shape[1]))\n",
        "\n",
        "X_train_with_bias = np.vstack([X_train, dummy_feature_train])\n",
        "X_test_with_bias = np.vstack([X_test, dummy_feature_test])\n",
        "\n",
        "num_weights = X_train_with_bias.shape[0]\n",
        "\n",
        "num_weights"
      ],
      "metadata": {
        "id": "TEfoOBYkG8ek",
        "colab": {
          "base_uri": "https://localhost:8080/"
        },
        "outputId": "7d74568e-2518-4677-ce16-693dd9acafaf"
      },
      "execution_count": null,
      "outputs": [
        {
          "output_type": "execute_result",
          "data": {
            "text/plain": [
              "6"
            ]
          },
          "metadata": {},
          "execution_count": 220
        }
      ]
    },
    {
      "cell_type": "markdown",
      "source": [
        "### Question-14 [5 marks]\n",
        "\n",
        "Learn the ridge regression model on the training dataset using the regulariztion parameters $\\lambda = [0.01, 0.1, 1.0, 10.0, 100.0, 1000.0]$. Which value of $\\lambda$ gives the least training loss? Training loss is defined as\n",
        "\n",
        "$$\\text{RMSE}  =  \\sqrt{\\dfrac{1}{n}\\sum\\limits_{i=1}^{n} (y_i- \\hat{y}_i)^2}\n",
        "$$\n"
      ],
      "metadata": {
        "id": "lPaEhZpSHBIP"
      }
    },
    {
      "cell_type": "code",
      "source": [
        "# Solution\n",
        "import numpy as np\n",
        "\n",
        "def ridge_regression(X, y, lambda_):\n",
        "    d = X.shape[0]\n",
        "    I = np.eye(d)\n",
        "    I[-1, -1] = 0\n",
        "    return np.linalg.inv(X @ X.T + lambda_ * I) @ X @ y\n",
        "\n",
        "def compute_rmse(X, y, w):\n",
        "    y_pred = X.T @ w\n",
        "    rmse = np.sqrt(np.mean((y - y_pred) ** 2))\n",
        "    return rmse\n",
        "\n",
        "lambdas = [0.01, 0.1, 1.0, 10.0, 100.0, 1000.0]\n",
        "\n",
        "rmse_values = []\n",
        "for lambda_ in lambdas:\n",
        "    w = ridge_regression(X_train_with_bias, y_train, lambda_)\n",
        "    rmse = compute_rmse(X_train_with_bias, y_train, w)\n",
        "    rmse_values.append(rmse)\n",
        "\n",
        "best_lambda = lambdas[np.argmin(rmse_values)]\n",
        "best_rmse = min(rmse_values)\n",
        "\n",
        "best_lambda\n"
      ],
      "metadata": {
        "id": "dGIgxLLAPXSM",
        "colab": {
          "base_uri": "https://localhost:8080/"
        },
        "outputId": "81cebff9-061a-4a22-c56d-79a72b788fbd"
      },
      "execution_count": null,
      "outputs": [
        {
          "output_type": "execute_result",
          "data": {
            "text/plain": [
              "0.01"
            ]
          },
          "metadata": {},
          "execution_count": 221
        }
      ]
    },
    {
      "cell_type": "code",
      "source": [
        "param_grid = {'alpha': [0.01, 0.1, 1.0, 10.0, 100.0, 1000.0]}\n",
        "\n",
        "ridge = Ridge(fit_intercept=False)\n",
        "grid_search = GridSearchCV(estimator=ridge, param_grid=param_grid, cv=5, scoring='neg_root_mean_squared_error', return_train_score=True)\n",
        "\n",
        "X_train = X_train[:len(y_train), :]\n",
        "grid_search.fit(X_train, y_train)\n",
        "\n",
        "best_lambda = grid_search.best_params_['alpha']\n",
        "best_rmse = -grid_search.best_score_\n",
        "best_lambda"
      ],
      "metadata": {
        "colab": {
          "base_uri": "https://localhost:8080/",
          "height": 356
        },
        "id": "ftFLIsldB0R0",
        "outputId": "ea8007f0-1b1a-46e3-af1c-810ee54c455b"
      },
      "execution_count": null,
      "outputs": [
        {
          "output_type": "error",
          "ename": "ValueError",
          "evalue": "Found input variables with inconsistent numbers of samples: [5, 100]",
          "traceback": [
            "\u001b[0;31m---------------------------------------------------------------------------\u001b[0m",
            "\u001b[0;31mValueError\u001b[0m                                Traceback (most recent call last)",
            "\u001b[0;32m<ipython-input-222-43e0697f42fa>\u001b[0m in \u001b[0;36m<cell line: 7>\u001b[0;34m()\u001b[0m\n\u001b[1;32m      5\u001b[0m \u001b[0;34m\u001b[0m\u001b[0m\n\u001b[1;32m      6\u001b[0m \u001b[0mX_train\u001b[0m \u001b[0;34m=\u001b[0m \u001b[0mX_train\u001b[0m\u001b[0;34m[\u001b[0m\u001b[0;34m:\u001b[0m\u001b[0mlen\u001b[0m\u001b[0;34m(\u001b[0m\u001b[0my_train\u001b[0m\u001b[0;34m)\u001b[0m\u001b[0;34m,\u001b[0m \u001b[0;34m:\u001b[0m\u001b[0;34m]\u001b[0m\u001b[0;34m\u001b[0m\u001b[0;34m\u001b[0m\u001b[0m\n\u001b[0;32m----> 7\u001b[0;31m \u001b[0mgrid_search\u001b[0m\u001b[0;34m.\u001b[0m\u001b[0mfit\u001b[0m\u001b[0;34m(\u001b[0m\u001b[0mX_train\u001b[0m\u001b[0;34m,\u001b[0m \u001b[0my_train\u001b[0m\u001b[0;34m)\u001b[0m\u001b[0;34m\u001b[0m\u001b[0;34m\u001b[0m\u001b[0m\n\u001b[0m\u001b[1;32m      8\u001b[0m \u001b[0;34m\u001b[0m\u001b[0m\n\u001b[1;32m      9\u001b[0m \u001b[0mbest_lambda\u001b[0m \u001b[0;34m=\u001b[0m \u001b[0mgrid_search\u001b[0m\u001b[0;34m.\u001b[0m\u001b[0mbest_params_\u001b[0m\u001b[0;34m[\u001b[0m\u001b[0;34m'alpha'\u001b[0m\u001b[0;34m]\u001b[0m\u001b[0;34m\u001b[0m\u001b[0;34m\u001b[0m\u001b[0m\n",
            "\u001b[0;32m/usr/local/lib/python3.10/dist-packages/sklearn/base.py\u001b[0m in \u001b[0;36mwrapper\u001b[0;34m(estimator, *args, **kwargs)\u001b[0m\n\u001b[1;32m   1150\u001b[0m                 )\n\u001b[1;32m   1151\u001b[0m             ):\n\u001b[0;32m-> 1152\u001b[0;31m                 \u001b[0;32mreturn\u001b[0m \u001b[0mfit_method\u001b[0m\u001b[0;34m(\u001b[0m\u001b[0mestimator\u001b[0m\u001b[0;34m,\u001b[0m \u001b[0;34m*\u001b[0m\u001b[0margs\u001b[0m\u001b[0;34m,\u001b[0m \u001b[0;34m**\u001b[0m\u001b[0mkwargs\u001b[0m\u001b[0;34m)\u001b[0m\u001b[0;34m\u001b[0m\u001b[0;34m\u001b[0m\u001b[0m\n\u001b[0m\u001b[1;32m   1153\u001b[0m \u001b[0;34m\u001b[0m\u001b[0m\n\u001b[1;32m   1154\u001b[0m         \u001b[0;32mreturn\u001b[0m \u001b[0mwrapper\u001b[0m\u001b[0;34m\u001b[0m\u001b[0;34m\u001b[0m\u001b[0m\n",
            "\u001b[0;32m/usr/local/lib/python3.10/dist-packages/sklearn/model_selection/_search.py\u001b[0m in \u001b[0;36mfit\u001b[0;34m(self, X, y, groups, **fit_params)\u001b[0m\n\u001b[1;32m    804\u001b[0m             \u001b[0mrefit_metric\u001b[0m \u001b[0;34m=\u001b[0m \u001b[0mself\u001b[0m\u001b[0;34m.\u001b[0m\u001b[0mrefit\u001b[0m\u001b[0;34m\u001b[0m\u001b[0;34m\u001b[0m\u001b[0m\n\u001b[1;32m    805\u001b[0m \u001b[0;34m\u001b[0m\u001b[0m\n\u001b[0;32m--> 806\u001b[0;31m         \u001b[0mX\u001b[0m\u001b[0;34m,\u001b[0m \u001b[0my\u001b[0m\u001b[0;34m,\u001b[0m \u001b[0mgroups\u001b[0m \u001b[0;34m=\u001b[0m \u001b[0mindexable\u001b[0m\u001b[0;34m(\u001b[0m\u001b[0mX\u001b[0m\u001b[0;34m,\u001b[0m \u001b[0my\u001b[0m\u001b[0;34m,\u001b[0m \u001b[0mgroups\u001b[0m\u001b[0;34m)\u001b[0m\u001b[0;34m\u001b[0m\u001b[0;34m\u001b[0m\u001b[0m\n\u001b[0m\u001b[1;32m    807\u001b[0m         \u001b[0mfit_params\u001b[0m \u001b[0;34m=\u001b[0m \u001b[0m_check_fit_params\u001b[0m\u001b[0;34m(\u001b[0m\u001b[0mX\u001b[0m\u001b[0;34m,\u001b[0m \u001b[0mfit_params\u001b[0m\u001b[0;34m)\u001b[0m\u001b[0;34m\u001b[0m\u001b[0;34m\u001b[0m\u001b[0m\n\u001b[1;32m    808\u001b[0m \u001b[0;34m\u001b[0m\u001b[0m\n",
            "\u001b[0;32m/usr/local/lib/python3.10/dist-packages/sklearn/utils/validation.py\u001b[0m in \u001b[0;36mindexable\u001b[0;34m(*iterables)\u001b[0m\n\u001b[1;32m    451\u001b[0m \u001b[0;34m\u001b[0m\u001b[0m\n\u001b[1;32m    452\u001b[0m     \u001b[0mresult\u001b[0m \u001b[0;34m=\u001b[0m \u001b[0;34m[\u001b[0m\u001b[0m_make_indexable\u001b[0m\u001b[0;34m(\u001b[0m\u001b[0mX\u001b[0m\u001b[0;34m)\u001b[0m \u001b[0;32mfor\u001b[0m \u001b[0mX\u001b[0m \u001b[0;32min\u001b[0m \u001b[0miterables\u001b[0m\u001b[0;34m]\u001b[0m\u001b[0;34m\u001b[0m\u001b[0;34m\u001b[0m\u001b[0m\n\u001b[0;32m--> 453\u001b[0;31m     \u001b[0mcheck_consistent_length\u001b[0m\u001b[0;34m(\u001b[0m\u001b[0;34m*\u001b[0m\u001b[0mresult\u001b[0m\u001b[0;34m)\u001b[0m\u001b[0;34m\u001b[0m\u001b[0;34m\u001b[0m\u001b[0m\n\u001b[0m\u001b[1;32m    454\u001b[0m     \u001b[0;32mreturn\u001b[0m \u001b[0mresult\u001b[0m\u001b[0;34m\u001b[0m\u001b[0;34m\u001b[0m\u001b[0m\n\u001b[1;32m    455\u001b[0m \u001b[0;34m\u001b[0m\u001b[0m\n",
            "\u001b[0;32m/usr/local/lib/python3.10/dist-packages/sklearn/utils/validation.py\u001b[0m in \u001b[0;36mcheck_consistent_length\u001b[0;34m(*arrays)\u001b[0m\n\u001b[1;32m    405\u001b[0m     \u001b[0muniques\u001b[0m \u001b[0;34m=\u001b[0m \u001b[0mnp\u001b[0m\u001b[0;34m.\u001b[0m\u001b[0munique\u001b[0m\u001b[0;34m(\u001b[0m\u001b[0mlengths\u001b[0m\u001b[0;34m)\u001b[0m\u001b[0;34m\u001b[0m\u001b[0;34m\u001b[0m\u001b[0m\n\u001b[1;32m    406\u001b[0m     \u001b[0;32mif\u001b[0m \u001b[0mlen\u001b[0m\u001b[0;34m(\u001b[0m\u001b[0muniques\u001b[0m\u001b[0;34m)\u001b[0m \u001b[0;34m>\u001b[0m \u001b[0;36m1\u001b[0m\u001b[0;34m:\u001b[0m\u001b[0;34m\u001b[0m\u001b[0;34m\u001b[0m\u001b[0m\n\u001b[0;32m--> 407\u001b[0;31m         raise ValueError(\n\u001b[0m\u001b[1;32m    408\u001b[0m             \u001b[0;34m\"Found input variables with inconsistent numbers of samples: %r\"\u001b[0m\u001b[0;34m\u001b[0m\u001b[0;34m\u001b[0m\u001b[0m\n\u001b[1;32m    409\u001b[0m             \u001b[0;34m%\u001b[0m \u001b[0;34m[\u001b[0m\u001b[0mint\u001b[0m\u001b[0;34m(\u001b[0m\u001b[0ml\u001b[0m\u001b[0;34m)\u001b[0m \u001b[0;32mfor\u001b[0m \u001b[0ml\u001b[0m \u001b[0;32min\u001b[0m \u001b[0mlengths\u001b[0m\u001b[0;34m]\u001b[0m\u001b[0;34m\u001b[0m\u001b[0;34m\u001b[0m\u001b[0m\n",
            "\u001b[0;31mValueError\u001b[0m: Found input variables with inconsistent numbers of samples: [5, 100]"
          ]
        }
      ]
    },
    {
      "cell_type": "markdown",
      "source": [
        "### Question-15 [5 marks]\n",
        "\n",
        "Learn the ridge regression model on the training dataset using the regulariztion parameters $\\lambda = [0.01, 0.1, 1.0, 10.0, 100.0, 1000.0]$. Which value of $\\lambda$ gives the least test loss?"
      ],
      "metadata": {
        "id": "UcgUSRLaHJoZ"
      }
    },
    {
      "cell_type": "code",
      "source": [
        "# Solution\n",
        "test_rmse_values = []\n",
        "for lambda_ in lambdas:\n",
        "    w = ridge_regression(X_train_with_bias, y_train, lambda_)\n",
        "    test_rmse = compute_rmse(X_test_with_bias, y_test, w)\n",
        "    test_rmse_values.append(test_rmse)\n",
        "\n",
        "best_lambda_test = lambdas[np.argmin(test_rmse_values)]\n",
        "best_test_rmse = min(test_rmse_values)\n",
        "\n",
        "best_lambda_test"
      ],
      "metadata": {
        "id": "0uHbGvOeHKEz"
      },
      "execution_count": null,
      "outputs": []
    },
    {
      "cell_type": "markdown",
      "source": [
        "### Question-16 [4 marks]\n",
        "\n",
        "Divide the training dataset (dummy feature added training dataset) into 5 folds. Do not shuffle the dataset. That is, if there are 100 training examples, first fold contains the data points with indices 0 to 19. Second fold cantains the data points with indices 20 to 39 and so on.\n",
        "\n",
        "Use cross validation to find the best value of $\\lambda$ out of $[0.01, 0.1, 1.0, 10.0]$. In $i^{th}$ iteration, use $i^{th}$ fold as validation set and remaining four as training set.\n",
        "\n",
        "The best value of $\\lambda$ will be one which gives the least mean validation loss (mean of validation loss on all five folds). Validation loss is defined as the root mean squared loss.\n",
        "\n",
        "Enter the best value of $\\lambda$.\n",
        "\n"
      ],
      "metadata": {
        "id": "x1qNOppgrD75"
      }
    },
    {
      "cell_type": "code",
      "source": [
        "from sklearn.linear_model import Ridge\n",
        "from sklearn.model_selection import KFold, GridSearchCV\n",
        "from sklearn.metrics import mean_squared_error\n",
        "\n",
        "param_grid = {'alpha': [0.01, 0.1, 1.0, 10.0]}\n",
        "\n",
        "ridge = Ridge(fit_intercept=True)\n",
        "\n",
        "kf = KFold(n_splits=5, shuffle=False)\n",
        "\n",
        "grid_search = GridSearchCV(estimator=ridge, param_grid=param_grid, cv=kf, scoring='neg_root_mean_squared_error', return_train_score=True)\n",
        "\n",
        "grid_search.fit(X_train, y_train)\n",
        "\n",
        "best_lambda = grid_search.best_params_['alpha']\n",
        "best_rmse = -grid_search.best_score_\n",
        "best_lambda"
      ],
      "metadata": {
        "id": "ikyHqDcIm9_0"
      },
      "execution_count": null,
      "outputs": []
    },
    {
      "cell_type": "markdown",
      "source": [
        "### Question-17 [6 marks]\n",
        "\n",
        "Find the mean validation loss using the best $\\lambda$ obtained in question 16. Enter the answer correct to three decimal places.\n",
        "\n",
        "\n",
        "\n"
      ],
      "metadata": {
        "id": "5mPOd_JCyFZj"
      }
    },
    {
      "cell_type": "code",
      "source": [
        "# Solution\n",
        "from sklearn.model_selection import cross_val_score\n",
        "neg_rmse_scores = cross_val_score(Ridge(alpha=best_lambda), X_train, y_train, cv=kf, scoring='neg_root_mean_squared_error')\n",
        "\n",
        "mean_validation_rmse = -np.mean(neg_rmse_scores)\n",
        "\n",
        "mean_validation_rmse"
      ],
      "metadata": {
        "id": "Z6_zPWkJRlHm"
      },
      "execution_count": null,
      "outputs": []
    },
    {
      "cell_type": "markdown",
      "source": [
        "### Question-18 [7 marks]\n",
        "\n",
        "Train the ridge regression model on the entire training dataset using the\n",
        "best $\\lambda$ obtained in question 16 and find the loss on the test dataset. Enter the answer correct to two decimal places."
      ],
      "metadata": {
        "id": "yF2wxSEIyV5Y"
      }
    }
  ]
}
